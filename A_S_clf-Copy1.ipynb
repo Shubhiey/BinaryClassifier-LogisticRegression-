{
 "cells": [
  {
   "cell_type": "code",
   "execution_count": 25,
   "metadata": {},
   "outputs": [],
   "source": [
    "import pandas as pd\n",
    "import numpy as np\n",
    "import matplotlib.pyplot as plt"
   ]
  },
  {
   "cell_type": "code",
   "execution_count": null,
   "metadata": {},
   "outputs": [],
   "source": []
  },
  {
   "cell_type": "code",
   "execution_count": 15,
   "metadata": {
    "scrolled": true
   },
   "outputs": [
    {
     "ename": "ValueError",
     "evalue": "invalid literal for int() with base 10: '227.3333333'",
     "output_type": "error",
     "traceback": [
      "\u001b[1;31m---------------------------------------------------------------------------\u001b[0m",
      "\u001b[1;31mValueError\u001b[0m                                Traceback (most recent call last)",
      "\u001b[1;32m<ipython-input-15-f68512f965c0>\u001b[0m in \u001b[0;36m<module>\u001b[1;34m()\u001b[0m\n\u001b[0;32m     10\u001b[0m         \u001b[0mq\u001b[0m\u001b[1;33m=\u001b[0m\u001b[0mlen\u001b[0m\u001b[1;33m(\u001b[0m\u001b[0mt\u001b[0m\u001b[1;33m)\u001b[0m\u001b[1;33m-\u001b[0m\u001b[1;36m1\u001b[0m\u001b[1;33m\u001b[0m\u001b[0m\n\u001b[0;32m     11\u001b[0m         \u001b[0mt\u001b[0m\u001b[1;33m=\u001b[0m\u001b[0mt\u001b[0m\u001b[1;33m[\u001b[0m\u001b[1;36m0\u001b[0m\u001b[1;33m:\u001b[0m\u001b[0mq\u001b[0m\u001b[1;33m]\u001b[0m\u001b[1;33m\u001b[0m\u001b[0m\n\u001b[1;32m---> 12\u001b[1;33m         \u001b[0mt\u001b[0m\u001b[1;33m=\u001b[0m\u001b[1;33m(\u001b[0m\u001b[0mint\u001b[0m\u001b[1;33m)\u001b[0m\u001b[1;33m(\u001b[0m\u001b[0mt\u001b[0m\u001b[1;33m)\u001b[0m\u001b[1;33m\u001b[0m\u001b[0m\n\u001b[0m\u001b[0;32m     13\u001b[0m         \u001b[0mc\u001b[0m\u001b[1;33m[\u001b[0m\u001b[0mj\u001b[0m\u001b[1;33m]\u001b[0m\u001b[1;33m=\u001b[0m\u001b[0mt\u001b[0m\u001b[1;33m/\u001b[0m\u001b[1;36m255\u001b[0m\u001b[1;33m\u001b[0m\u001b[0m\n\u001b[0;32m     14\u001b[0m     \u001b[0mdata1\u001b[0m\u001b[1;33m.\u001b[0m\u001b[0mappend\u001b[0m\u001b[1;33m(\u001b[0m\u001b[1;33m(\u001b[0m\u001b[1;33m(\u001b[0m\u001b[0mdata\u001b[0m\u001b[1;33m.\u001b[0m\u001b[0miloc\u001b[0m\u001b[1;33m[\u001b[0m\u001b[0mi\u001b[0m\u001b[1;33m]\u001b[0m\u001b[1;33m)\u001b[0m\u001b[1;33m[\u001b[0m\u001b[1;36m1\u001b[0m\u001b[1;33m]\u001b[0m\u001b[1;33m,\u001b[0m\u001b[0mc\u001b[0m\u001b[1;33m)\u001b[0m\u001b[1;33m)\u001b[0m\u001b[1;33m\u001b[0m\u001b[0m\n",
      "\u001b[1;31mValueError\u001b[0m: invalid literal for int() with base 10: '227.3333333'"
     ]
    }
   ],
   "source": [
    "data=pd.read_csv(\"Path of dataset\")\n",
    "x='''Attributes in the dataset'''\n",
    "y='''Target in the dataset'''"
   ]
  },
  {
   "cell_type": "code",
   "execution_count": 56,
   "metadata": {},
   "outputs": [],
   "source": [
    "def sigmoid (z):\n",
    "    x=1/(1+np.exp(-1*z))\n",
    "    return x"
   ]
  },
  {
   "cell_type": "code",
   "execution_count": 57,
   "metadata": {},
   "outputs": [],
   "source": [
    "def initialize():\n",
    "    w=np.zeros((900,1))\n",
    "    b=0\n",
    "    return w,b"
   ]
  },
  {
   "cell_type": "code",
   "execution_count": 58,
   "metadata": {},
   "outputs": [],
   "source": [
    "def propagate(w,b,X_train,Y_train):\n",
    "    A=sigmoid(np.dot(w.T,X_train)+b)\n",
    "    m=\"Number of train examples\"\n",
    "    dw=(1/m)*np.dot(X_train,(A-Y_train).T)\n",
    "    db=(1/m)*np.sum(A-Y_train)\n",
    "    return dw,db"
   ]
  },
  {
   "cell_type": "code",
   "execution_count": 59,
   "metadata": {},
   "outputs": [],
   "source": [
    "def optimize(w,b,X_train,Y_train,noi,lr):\n",
    "    while(noi>0):\n",
    "        dw,db=propagate(w,b,X_train,Y_train)\n",
    "        w=w-(lr*dw)\n",
    "        b=b-(lr*db)\n",
    "        noi-=1\n",
    "    return w,b    "
   ]
  },
  {
   "cell_type": "code",
   "execution_count": 60,
   "metadata": {},
   "outputs": [],
   "source": [
    "def model(X_train,Y_train,noi,lr):\n",
    "    w,b=initialize()\n",
    "    w,b=optimize(w,b,X_train,Y_train,noi,lr)\n",
    "    return (w,b)"
   ]
  },
  {
   "cell_type": "code",
   "execution_count": 91,
   "metadata": {},
   "outputs": [],
   "source": [
    "def predict(clf,X_test,Y_test):\n",
    "    w,b=clf\n",
    "    A=sigmoid(np.dot(w.T,X_test)+b)\n",
    "    c=0\n",
    "    for i in range(76):\n",
    "        if(A[0][i]>=0.5):\n",
    "            A[0][i]=1\n",
    "        else:\n",
    "            A[0][i]=0\n",
    "    for i in range(76):\n",
    "        if(Y_test[0][i]!=A[0][i]):\n",
    "            c+=1\n",
    "    print (len(A[0]))\n",
    "    print (Y_test)\n",
    "    return(100-(c*5))"
   ]
  },
  {
   "cell_type": "code",
   "execution_count": 92,
   "metadata": {},
   "outputs": [
    {
     "name": "stdout",
     "output_type": "stream",
     "text": [
      "(900, 76)\n",
      "(1, 76)\n",
      "(900, 20)\n",
      "(1, 20)\n"
     ]
    }
   ],
   "source": [
    "X_train=[]\n",
    "Y_train=[]\n",
    "X_test=[]\n",
    "Y_test=[]\n",
    "for i in range(\"Number of train examples\"):\n",
    "    Y_train.append(data1[i][0])\n",
    "for i in range(\"Number of test examples\"):\n",
    "    Y_test.append(data1[i+\"Number of train examples\"][0])\n",
    "for i in range(\"Number of attributes\"):\n",
    "    z=[]\n",
    "    for j in range(\"Number of train examples\"):\n",
    "        z.append(data1[j][1][i])\n",
    "    X_train.append(z)\n",
    "for i in range(\"Number of attributes\"):\n",
    "    z=[]\n",
    "    for j in range(\"Number of test examples\"):\n",
    "        z.append(data1[j+\"Number of train examples\"][1][i])\n",
    "    X_test.append(z)\n",
    "X_train=np.array(X_train)\n",
    "X_test=np.array(X_test)\n",
    "Y_train=np.array(Y_train)\n",
    "Y_train=Y_train.reshape((1,\"Number of train examples\"))\n",
    "Y_test=np.array(Y_test)\n",
    "Y_test=Y_test.reshape((1,\"Number of test examples\"))\n",
    "\n",
    "print(X_train.shape)\n",
    "print(Y_train.shape)\n",
    "print(X_test.shape)\n",
    "print(Y_test.shape)"
   ]
  },
  {
   "cell_type": "code",
   "execution_count": null,
   "metadata": {},
   "outputs": [],
   "source": []
  },
  {
   "cell_type": "code",
   "execution_count": 113,
   "metadata": {},
   "outputs": [
    {
     "name": "stdout",
     "output_type": "stream",
     "text": [
      "76\n",
      "[[1 0 1 0 1 0 1 0 1 0 1 0 1 0 1 0 1 0 1 0 1 0 1 0 1 0 1 0 1 0 1 0 1 0 1 0\n",
      "  1 0 1 0 1 0 1 0 1 0 1 0 1 0 1 0 1 0 1 0 1 0 1 0 1 0 1 0 1 0 1 0 1 0 1 0\n",
      "  1 0 1 0]]\n",
      "100%"
     ]
    }
   ],
   "source": [
    "clf=model(X_train,Y_train,1000,0.05)\n",
    "acc=predict(clf,X_train,Y_train)\n",
    "print(acc,end='%')"
   ]
  },
  {
   "cell_type": "code",
   "execution_count": null,
   "metadata": {},
   "outputs": [],
   "source": []
  }
 ],
 "metadata": {
  "kernelspec": {
   "display_name": "Python 3",
   "language": "python",
   "name": "python3"
  },
  "language_info": {
   "codemirror_mode": {
    "name": "ipython",
    "version": 3
   },
   "file_extension": ".py",
   "mimetype": "text/x-python",
   "name": "python",
   "nbconvert_exporter": "python",
   "pygments_lexer": "ipython3",
   "version": "3.7.0"
  }
 },
 "nbformat": 4,
 "nbformat_minor": 2
}
